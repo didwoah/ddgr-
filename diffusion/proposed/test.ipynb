{
 "cells": [
  {
   "cell_type": "code",
   "execution_count": 3,
   "metadata": {},
   "outputs": [
    {
     "name": "stdout",
     "output_type": "stream",
     "text": [
      "tensor([[[[ 0.8384, -0.7495],\n",
      "          [-0.4643, -0.4164]],\n",
      "\n",
      "         [[ 0.3497,  0.4934],\n",
      "          [ 1.2842, -0.7874]]],\n",
      "\n",
      "\n",
      "        [[[-0.3703, -1.3593],\n",
      "          [-1.3031,  0.4917]],\n",
      "\n",
      "         [[-1.1983, -0.9699],\n",
      "          [ 0.2884, -0.0720]]]])\n",
      "tensor([[[[[ 0.8384, -0.7495],\n",
      "           [-0.4643, -0.4164]],\n",
      "\n",
      "          [[ 0.3497,  0.4934],\n",
      "           [ 1.2842, -0.7874]]],\n",
      "\n",
      "\n",
      "         [[[ 0.8384, -0.7495],\n",
      "           [-0.4643, -0.4164]],\n",
      "\n",
      "          [[ 0.3497,  0.4934],\n",
      "           [ 1.2842, -0.7874]]]],\n",
      "\n",
      "\n",
      "\n",
      "        [[[[-0.3703, -1.3593],\n",
      "           [-1.3031,  0.4917]],\n",
      "\n",
      "          [[-1.1983, -0.9699],\n",
      "           [ 0.2884, -0.0720]]],\n",
      "\n",
      "\n",
      "         [[[-0.3703, -1.3593],\n",
      "           [-1.3031,  0.4917]],\n",
      "\n",
      "          [[-1.1983, -0.9699],\n",
      "           [ 0.2884, -0.0720]]]]])\n"
     ]
    }
   ],
   "source": [
    "import torch\n",
    "\n",
    "# Example setup\n",
    "batch_size = 2\n",
    "c, h, w = 2, 2, 2\n",
    "self_num_sampled_labels = 2  # Assume self.num_sampled_labels = 5\n",
    "\n",
    "# Generate random noise\n",
    "noise = torch.randn(batch_size, c, h, w)  # Shape: (2, 3, 4, 4)\n",
    "\n",
    "# Transform the noise\n",
    "expanded_noise = (\n",
    "    noise.unsqueeze(1)\n",
    "    .repeat(1, self_num_sampled_labels, 1, 1, 1)  # Shape: (2, 5, 3, 4, 4)\n",
    "    .view(-1, noise.shape[1], noise.shape[2], noise.shape[3])  # Shape: (10, 3, 4, 4)\n",
    "    .view(batch_size, self_num_sampled_labels, h, w, c)  # Shape: (2, 5, 4, 4, 3)\n",
    ")\n",
    "\n",
    "print(noise)\n",
    "print(expanded_noise)\n"
   ]
  },
  {
   "cell_type": "code",
   "execution_count": null,
   "metadata": {},
   "outputs": [],
   "source": []
  }
 ],
 "metadata": {
  "kernelspec": {
   "display_name": "ddpm",
   "language": "python",
   "name": "python3"
  },
  "language_info": {
   "codemirror_mode": {
    "name": "ipython",
    "version": 3
   },
   "file_extension": ".py",
   "mimetype": "text/x-python",
   "name": "python",
   "nbconvert_exporter": "python",
   "pygments_lexer": "ipython3",
   "version": "3.10.15"
  }
 },
 "nbformat": 4,
 "nbformat_minor": 2
}
